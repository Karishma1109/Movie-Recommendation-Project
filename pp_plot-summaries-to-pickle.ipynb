{
 "cells": [
  {
   "cell_type": "markdown",
   "id": "834dc600",
   "metadata": {},
   "source": [
    "# About this helper\n",
    "This helper script will read the plot_summaries.txt file and output it as a dictionary with<p>\n",
    "k: movie_id\n",
    "v: plot_summary\n",
    "    \n",
    "This pre-processing is required for the subsequent analysis"
   ]
  },
  {
   "cell_type": "code",
   "execution_count": null,
   "id": "3876f6d0",
   "metadata": {},
   "outputs": [],
   "source": [
    "from collections import defaultdict\n",
    "import nltk\n",
    "import os\n",
    "import pickle"
   ]
  },
  {
   "cell_type": "code",
   "execution_count": null,
   "id": "19605239",
   "metadata": {},
   "outputs": [],
   "source": [
    "data_folder = os.path.join('data', 'MovieSummaries')\n",
    "file_plot_summaries = 'plot_summaries.txt'\n",
    "file_movie_metadata = 'movie.metadata.tsv'"
   ]
  },
  {
   "cell_type": "code",
   "execution_count": null,
   "id": "fc08556b",
   "metadata": {},
   "outputs": [],
   "source": [
    "f_plot_summaries = os.path.join(data_folder, file_plot_summaries)"
   ]
  },
  {
   "cell_type": "code",
   "execution_count": null,
   "id": "1dec97d9",
   "metadata": {},
   "outputs": [],
   "source": [
    "with open(f_plot_summaries, 'r') as f:\n",
    "    plot_summaries = f.readlines()"
   ]
  },
  {
   "cell_type": "code",
   "execution_count": null,
   "id": "144fdf74",
   "metadata": {},
   "outputs": [],
   "source": [
    "type(plot_summaries), len(plot_summaries)"
   ]
  },
  {
   "cell_type": "code",
   "execution_count": null,
   "id": "215f4128",
   "metadata": {},
   "outputs": [],
   "source": [
    "plot_summaries[0]"
   ]
  },
  {
   "cell_type": "code",
   "execution_count": null,
   "id": "1e8e8d20",
   "metadata": {},
   "outputs": [],
   "source": [
    "dict_plot_summaries = defaultdict(str)\n",
    "for plot in plot_summaries:\n",
    "    movie_id, plot_summary = plot.split('\\t')\n",
    "    dict_plot_summaries[movie_id] = plot_summary"
   ]
  },
  {
   "cell_type": "markdown",
   "id": "fba0e399",
   "metadata": {},
   "source": [
    "## Check that the number of items processed is correct"
   ]
  },
  {
   "cell_type": "code",
   "execution_count": null,
   "id": "517e0757",
   "metadata": {},
   "outputs": [],
   "source": [
    "print(len(dict_plot_summaries))"
   ]
  },
  {
   "cell_type": "markdown",
   "id": "d991f7aa",
   "metadata": {},
   "source": [
    "## Save the dictionary to pickle file"
   ]
  },
  {
   "cell_type": "code",
   "execution_count": null,
   "id": "4d538c6d",
   "metadata": {},
   "outputs": [],
   "source": [
    "with open(os.path.join(data_folder, 'plot_summaries.p'), 'wb') as output_pickle:\n",
    "    pickle.dump(dict_plot_summaries, output_pickle)"
   ]
  },
  {
   "cell_type": "markdown",
   "id": "ff71053f",
   "metadata": {},
   "source": [
    "## Open the dictionary from pickle file"
   ]
  },
  {
   "cell_type": "code",
   "execution_count": 3,
   "id": "a8bca6e5",
   "metadata": {},
   "outputs": [],
   "source": [
    "import os\n",
    "import pickle\n",
    "\n",
    "# Only define parameters if it is not already defined\n",
    "try:\n",
    "    data_folder\n",
    "except NameError:\n",
    "    data_folder = os.path.join('data', 'MovieSummaries')\n",
    "    file_plot_summaries = 'plot_summaries.txt'\n",
    "    file_movie_metadata = 'movie.metadata.tsv'\n",
    "\n",
    "with open(os.path.join(data_folder, 'plot_summaries.p'), 'rb') as input_pickle:\n",
    "    dict_plot_summaries = pickle.load(input_pickle)"
   ]
  },
  {
   "cell_type": "code",
   "execution_count": 4,
   "id": "a373b313",
   "metadata": {},
   "outputs": [
    {
     "name": "stdout",
     "output_type": "stream",
     "text": [
      "42306\n"
     ]
    }
   ],
   "source": [
    "print(len(dict_plot_summaries))"
   ]
  },
  {
   "cell_type": "code",
   "execution_count": 8,
   "id": "cba866a8",
   "metadata": {},
   "outputs": [
    {
     "name": "stdout",
     "output_type": "stream",
     "text": [
      "23890098: Shlykov, a hard-working taxi driver and Lyosha, a saxophonist, develop a bizarre love-hate relationship, and despite their prejudices, realize they aren't so different after all.\n",
      "\n"
     ]
    }
   ],
   "source": [
    "for k,v in dict_plot_summaries.items():\n",
    "    print(f'{k}: {v}')\n",
    "    break"
   ]
  },
  {
   "cell_type": "code",
   "execution_count": null,
   "id": "9b57ea70",
   "metadata": {},
   "outputs": [],
   "source": []
  }
 ],
 "metadata": {
  "kernelspec": {
   "display_name": "Python 3 (ipykernel)",
   "language": "python",
   "name": "python3"
  },
  "language_info": {
   "codemirror_mode": {
    "name": "ipython",
    "version": 3
   },
   "file_extension": ".py",
   "mimetype": "text/x-python",
   "name": "python",
   "nbconvert_exporter": "python",
   "pygments_lexer": "ipython3",
   "version": "3.9.7"
  }
 },
 "nbformat": 4,
 "nbformat_minor": 5
}
